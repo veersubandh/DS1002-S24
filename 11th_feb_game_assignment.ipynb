{
  "nbformat": 4,
  "nbformat_minor": 0,
  "metadata": {
    "colab": {
      "provenance": [],
      "include_colab_link": true
    },
    "kernelspec": {
      "name": "python3",
      "display_name": "Python 3"
    },
    "language_info": {
      "name": "python"
    }
  },
  "cells": [
    {
      "cell_type": "markdown",
      "metadata": {
        "id": "view-in-github",
        "colab_type": "text"
      },
      "source": [
        "<a href=\"https://colab.research.google.com/github/veersubandh/DS1002-S24/blob/main/11th_feb_game_assignment.ipynb\" target=\"_parent\"><img src=\"https://colab.research.google.com/assets/colab-badge.svg\" alt=\"Open In Colab\"/></a>"
      ]
    },
    {
      "cell_type": "code",
      "execution_count": null,
      "metadata": {
        "colab": {
          "base_uri": "https://localhost:8080/"
        },
        "id": "FuzbgVycNwIq",
        "outputId": "3853df40-b7f9-4c88-9167-f15c8513d846"
      },
      "outputs": [
        {
          "output_type": "stream",
          "name": "stdout",
          "text": [
            "Can you guess the number that I have selected between 1 and 100 \n",
            "What is your guess? 90\n",
            "Try again, your guess is too high\n",
            "What is your guess? 80-\n",
            "Please enter an integer between 0 and 100.\n",
            "What is your guess? 80\n",
            "Try again, your guess is too high\n",
            "What is your guess? 70\n",
            "Try again, your guess is too high\n",
            "What is your guess? 50\n",
            "Try again, your guess is too low\n",
            "What is your guess? 60\n",
            "Try again, your guess is too low\n",
            "What is your guess? 65\n",
            "Try again, your guess is too high\n",
            "What is your guess? 64\n",
            "You got it! After 7 guesses.\n"
          ]
        }
      ],
      "source": [
        "import random\n",
        "\n",
        "def number_guessed():\n",
        "    random_number = random.randint(0, 100)\n",
        "    number_of_guesses = 0\n",
        "    #this variable is initilaised to 0 before the guessing loop starts- it will count the number of guesses\n",
        "    print(\"Can you guess the number that I have selected between 1 and 100 \")\n",
        "\n",
        "    while True:\n",
        "      #while true is a loop that occurs indefinately until a break statement is encountered within the loop\n",
        "        try:\n",
        "            guess = int(input(\"What is your guess? \"))\n",
        "            number_of_guesses += 1\n",
        "            #this means that everytime the line gets executed, the number of guesses increases by 1\n",
        "\n",
        "            if guess == random_number:\n",
        "                print(f\"You got it! After {number_of_guesses} guesses.\")\n",
        "                break #loop ends\n",
        "            elif guess > random_number:\n",
        "                print(\"Try again, your guess is too high\")\n",
        "            else:\n",
        "                print(\"Try again, your guess is too low\")\n",
        "        except ValueError:\n",
        "            print(\"Please enter an integer between 0 and 100.\")\n",
        "\n",
        "# Call the function to start the game\n",
        "number_guessed()\n",
        "\n"
      ]
    },
    {
      "cell_type": "markdown",
      "source": [
        "step 1- import the random module- which provides functions to generate random numbers\n",
        "step 2- defined the function number_guessed\n",
        "step 3- used randit function from random module to generate number between 0 to 100\n",
        "step 4- initilaised the number of guesses to keep track of the number of guesses made by the user\n",
        "step 5- printing instructions to the user\n",
        "step 6- starting the infinite guessing loop- while loop- that continues until the user guesses the correct number and breaks out of the loop\n",
        "step 7- used the try block to catch if the value isnt an integer- input converted to  an integer input\n",
        "step 8- number of guesses incremented by 1 each time\n",
        "step 9- checks if the guess is equal to the random number- if it is equal, it prints the guesses and breaks out of the loop- thats why I put break\n",
        "step 10- if the guess is not correct, through the elif and if conditions, it provides feedback telling the user if it was too high or low relative to random number\n",
        "step 11- value error was included to handle non-integer inputs\n",
        "step 12- calling the function was necessary to start the game- once called the function executes all the steps defined within it\n",
        "\n"
      ],
      "metadata": {
        "id": "PhDNy1CgSAqw"
      }
    },
    {
      "cell_type": "code",
      "source": [],
      "metadata": {
        "id": "AbalSKKgTxBQ"
      },
      "execution_count": null,
      "outputs": []
    },
    {
      "cell_type": "markdown",
      "source": [],
      "metadata": {
        "id": "0ehE3mT5UIwY"
      }
    },
    {
      "cell_type": "markdown",
      "source": [
        "the assignment took 50 minutes to complete\n",
        "project by Veer Subandh (qsj8ew@virginia.edu)  and Anaya Nath (dtv9vd@virginia.edu)"
      ],
      "metadata": {
        "id": "XWz_17KrUI7e"
      }
    }
  ]
}