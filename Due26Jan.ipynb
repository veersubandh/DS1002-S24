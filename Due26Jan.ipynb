{
  "nbformat": 4,
  "nbformat_minor": 0,
  "metadata": {
    "colab": {
      "provenance": [],
      "include_colab_link": true
    },
    "kernelspec": {
      "name": "python3",
      "display_name": "Python 3"
    },
    "language_info": {
      "name": "python"
    }
  },
  "cells": [
    {
      "cell_type": "markdown",
      "metadata": {
        "id": "view-in-github",
        "colab_type": "text"
      },
      "source": [
        "<a href=\"https://colab.research.google.com/github/veersubandh/DS1002-S24/blob/main/Due26Jan.ipynb\" target=\"_parent\"><img src=\"https://colab.research.google.com/assets/colab-badge.svg\" alt=\"Open In Colab\"/></a>"
      ]
    },
    {
      "cell_type": "markdown",
      "source": [
        "\n",
        "# Assignment due 26 Jan\n",
        "\n",
        "\n",
        "\n",
        "---\n",
        "\n",
        "\n",
        "The main purpose of this assignment is to make sure we are exchanging documents effectively.  Once you have opened this notebook in Colab, try to save it (in Colab) and see what happens.  You will have to make your own copy first.  So, do that.  From now on, you will be editing your own copy of the notebook and you can and should save your own work.\n",
        "\n",
        "When it is complete and you are ready to submit it, save a copy to the GitHub repository that you've shared with me (do this using the File drop-down menu).  **When you save to GitHub, there is a checkbox option to include a link to Colab.**  Do this!\n",
        "\n",
        "Then go to your GitHub repository where you will find the .ipynb file saved.  (You may be taken there automatically.)\n",
        "You will see the document inside a frame that is part of the GitHub page. Click the blue \"Open in Colab\" patch at the top of the document.\n",
        "\n",
        "This will open a new tab with the Colab notebook in it.  At this point you probably have two different tabs with the same Colab notebook.  Compare the two urls in your browser.  The new one will start with colab, but it will also have github in it, and some other information.  (It'll also say \"blob\" somewhere, I think.)  **This is the url you should submit to the Canvas site.**\n",
        "\n",
        "Be careful:  don't submit the url from the original Colab tab that you were working in!  That one also starts with colab but it ends with a string of gibberish.  Make sure you submit the appropriate url.\n",
        "\n",
        "\n",
        "---\n",
        "\n"
      ],
      "metadata": {
        "id": "5uwkFIE_YeQu"
      }
    },
    {
      "cell_type": "markdown",
      "source": [
        "So now, on to the rest of the assignment.\n"
      ],
      "metadata": {
        "id": "1RY0gTutaPJg"
      }
    },
    {
      "cell_type": "markdown",
      "source": [
        "First, add a text box below this line, and in it, tell me whether you've read the syllabus.\n"
      ],
      "metadata": {
        "id": "AqHsqNDqYSu4"
      }
    },
    {
      "cell_type": "markdown",
      "source": [
        "I have read the syllabus\n"
      ],
      "metadata": {
        "id": "KbzqZIYwBgmY"
      }
    },
    {
      "cell_type": "markdown",
      "source": [
        "Next, add a code chunk below this paragraph.  In the code chunk, define a variable with an integer value and another variable with a string value.  (Remember, an integer is a whole number.)\n",
        "Then, write a line of code that prints the square of the integer (the integer times itself).\n",
        "What happens if you try to add the integer and the string together?"
      ],
      "metadata": {
        "id": "JcO1iMUBYcS6"
      }
    },
    {
      "cell_type": "code",
      "source": [
        "n=6\n",
        "newst=\"8\"\n",
        "\n",
        "sq=n*n\n",
        "\n",
        "\n",
        "print(\"The Square is \"+ str(sq))\n",
        "\n"
      ],
      "metadata": {
        "colab": {
          "base_uri": "https://localhost:8080/"
        },
        "id": "lO8BnfdZBsEf",
        "outputId": "1fd2e248-c226-4634-8414-d43bdac7b7ba"
      },
      "execution_count": 20,
      "outputs": [
        {
          "output_type": "stream",
          "name": "stdout",
          "text": [
            "The Square is 36\n"
          ]
        }
      ]
    },
    {
      "cell_type": "code",
      "source": [
        "n=6\n",
        "newst=\"8\"\n",
        "\n",
        "print(n+int(newst))"
      ],
      "metadata": {
        "colab": {
          "base_uri": "https://localhost:8080/"
        },
        "id": "wNL0nkShHQf0",
        "outputId": "f00d9158-98c2-442e-e227-0d062f475c40"
      },
      "execution_count": 19,
      "outputs": [
        {
          "output_type": "stream",
          "name": "stdout",
          "text": [
            "14\n"
          ]
        }
      ]
    },
    {
      "cell_type": "markdown",
      "source": [
        "when I print in the first statement, the print statement shows an error as I cannot concoct an integer without converting to a string."
      ],
      "metadata": {
        "id": "jomx22BCHi21"
      }
    },
    {
      "cell_type": "markdown",
      "source": [
        "When I try adding the integer and string together it shows an error because i can't add a string to an integer without converting the string to an integer\n"
      ],
      "metadata": {
        "id": "Y_s9dNo7FsRj"
      }
    },
    {
      "cell_type": "markdown",
      "source": [
        "Finally, in the empty code chunk below, define a new variable whose value is a list with four entries, not all of the same type.\n",
        "\n",
        "Write a line of code that prints out the data type of the final item on your list."
      ],
      "metadata": {
        "id": "kMV9WLhAbIB3"
      }
    },
    {
      "cell_type": "code",
      "source": [
        "newL = [1,True , 45, \"Banana\" ]\n",
        "print(type(newL [3]))"
      ],
      "metadata": {
        "colab": {
          "base_uri": "https://localhost:8080/"
        },
        "id": "hZEO4w9WLc7q",
        "outputId": "d1350da1-caa0-444c-d4d2-fceeb1966b6b"
      },
      "execution_count": 46,
      "outputs": [
        {
          "output_type": "stream",
          "name": "stdout",
          "text": [
            "<class 'str'>\n"
          ]
        }
      ]
    },
    {
      "cell_type": "code",
      "source": [],
      "metadata": {
        "id": "gcQdOoY9Ybdu"
      },
      "execution_count": null,
      "outputs": []
    }
  ]
}