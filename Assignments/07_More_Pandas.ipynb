{
  "nbformat": 4,
  "nbformat_minor": 0,
  "metadata": {
    "colab": {
      "provenance": [],
      "include_colab_link": true
    },
    "kernelspec": {
      "name": "python3",
      "display_name": "Python 3"
    },
    "language_info": {
      "name": "python"
    }
  },
  "cells": [
    {
      "cell_type": "markdown",
      "metadata": {
        "id": "view-in-github",
        "colab_type": "text"
      },
      "source": [
        "<a href=\"https://colab.research.google.com/github/veersubandh/DS1002-S24/blob/main/Assignments/07_More_Pandas.ipynb\" target=\"_parent\"><img src=\"https://colab.research.google.com/assets/colab-badge.svg\" alt=\"Open In Colab\"/></a>"
      ]
    },
    {
      "cell_type": "markdown",
      "source": [
        "# More pandas exercises\n",
        "\n",
        "Create a Colab notebook. Complete the tasks as specified in the directions. Run each cell to return the desired output. Save your notebook back to your GitHub repository and submit the GitHub URL for your notebook for review."
      ],
      "metadata": {
        "id": "phbaQTT5gy8A"
      }
    },
    {
      "cell_type": "markdown",
      "source": [
        "1.  Load the following dataset into Colab and perform the requested operations in code.\n",
        "\n",
        " Source: https://ds1002-resources.s3.amazonaws.com/data/ride_sharing.csv"
      ],
      "metadata": {
        "id": "WlPHuSLARJBJ"
      }
    },
    {
      "cell_type": "code",
      "source": [
        "# Load pandas and the data\n",
        "import pandas as pd\n",
        "url=\"https://ds1002-resources.s3.amazonaws.com/data/ride_sharing.csv\"\n",
        "ride_sharing_df=pd.read_csv(url)\n",
        "print(ride_sharing_df.head()) #printing the first few rows of the data set\n",
        "\n"
      ],
      "metadata": {
        "id": "kdFLCHtOg53p",
        "outputId": "68c610fe-1ca5-4418-b4c0-f3951f5d0c39",
        "colab": {
          "base_uri": "https://localhost:8080/"
        }
      },
      "execution_count": null,
      "outputs": [
        {
          "output_type": "stream",
          "name": "stdout",
          "text": [
            "     duration  station_A_id  \\\n",
            "0  12 minutes            81   \n",
            "1  24 minutes             3   \n",
            "2   8 minutes            67   \n",
            "3   4 minutes            16   \n",
            "4  11 minutes            22   \n",
            "\n",
            "                                      station_A_name  station_B_id  \\\n",
            "0                                 Berry St at 4th St           323   \n",
            "1       Powell St BART Station (Market St at 4th St)           118   \n",
            "2  San Francisco Caltrain Station 2  (Townsend St...            23   \n",
            "3                            Steuart St at Market St            28   \n",
            "4                              Howard St at Beale St           350   \n",
            "\n",
            "                    station_B_name  bike_id  user_type  user_birth_year  \\\n",
            "0               Broadway at Kearny     5480          2             1959   \n",
            "1  Eureka Valley Recreation Center     5193          2             1965   \n",
            "2    The Embarcadero at Steuart St     3652          3             1993   \n",
            "3     The Embarcadero at Bryant St     1883          1             1979   \n",
            "4             8th St at Brannan St     4626          2             1994   \n",
            "\n",
            "  user_gender  tire_size  \n",
            "0        Male         26  \n",
            "1        Male         27  \n",
            "2        Male         29  \n",
            "3        Male         26  \n",
            "4        Male         27  \n"
          ]
        }
      ]
    },
    {
      "cell_type": "code",
      "source": [
        "# show how many rows and columns are in this dataset\n",
        "#number of rows in the data set:\n",
        "print(\"Number of rows:\",ride_sharing_df.shape[0])\n",
        "#number of columns in the data set:\n",
        "print(\"Number of columns:\", ride_sharing_df.shape[1])\n"
      ],
      "metadata": {
        "id": "Lfh8suAyhKQW",
        "outputId": "c44252bd-e808-4856-d000-0d881bdb0f48",
        "colab": {
          "base_uri": "https://localhost:8080/"
        }
      },
      "execution_count": null,
      "outputs": [
        {
          "output_type": "stream",
          "name": "stdout",
          "text": [
            "Number of rows: 25760\n",
            "Number of columns: 10\n"
          ]
        }
      ]
    },
    {
      "cell_type": "code",
      "source": [
        "# The first column, \"duration\" is seen as a string.\n",
        "# Using two snippets of code, clean this column up so that\n",
        "# is now an integer (int64)\n",
        "#  converting duration to integers\n",
        "ride_sharing_df['duration'] = ride_sharing_df['duration'].str.replace(r'\\D', '', regex=True).astype(int)\n",
        "#my research revealed that \\D is a regualar expression pattern that represents any charecter that is not a digit\n",
        "\n",
        "# Displaying the new 'duration' data type\n",
        "print(\"Data type of 'duration' column after cleaning:\", ride_sharing_df['duration'].dtype)\n"
      ],
      "metadata": {
        "id": "KK5-y9nzhMVq",
        "outputId": "92061aab-8c57-4860-e973-36ca62efd381",
        "colab": {
          "base_uri": "https://localhost:8080/"
        }
      },
      "execution_count": null,
      "outputs": [
        {
          "output_type": "stream",
          "name": "stdout",
          "text": [
            "Data type of 'duration' column after cleaning: int64\n"
          ]
        }
      ]
    },
    {
      "cell_type": "code",
      "source": [
        "# Now display the datatypes in the updated dataframe\n",
        "# Display the data types in the updated DataFrame\n",
        "print(\"Data types in the updated DataFrame:\", ride_sharing_df.dtypes)\n"
      ],
      "metadata": {
        "id": "QyGJUshvhz1J",
        "outputId": "143d2c55-0920-4c52-9b0b-f236dcef6d18",
        "colab": {
          "base_uri": "https://localhost:8080/"
        }
      },
      "execution_count": null,
      "outputs": [
        {
          "output_type": "stream",
          "name": "stdout",
          "text": [
            "Data types in the updated DataFrame: duration            int64\n",
            "station_A_id        int64\n",
            "station_A_name     object\n",
            "station_B_id        int64\n",
            "station_B_name     object\n",
            "bike_id             int64\n",
            "user_type           int64\n",
            "user_birth_year     int64\n",
            "user_gender        object\n",
            "tire_size           int64\n",
            "dtype: object\n"
          ]
        }
      ]
    },
    {
      "cell_type": "code",
      "source": [
        "# Show the min and max values of ride durations (the shortest and longest rides)\n",
        "# Hint: If 'df' is the name of your dataframe, simply specify the column name\n",
        "# and then append the .min() or .max() methods.\n",
        "min_duration= ride_sharing_df['duration'].min()\n",
        "max_duration= ride_sharing_df['duration'].max()\n",
        "print(\"the minimum ride duration is:\", min_duration, \"minute\")\n",
        "print(\"the maximum ride duration is:\", max_duration, \"minutes\")\n"
      ],
      "metadata": {
        "id": "UCA1OswWh5b5",
        "outputId": "c1dcb593-24a2-4900-ff5d-4ef22301e152",
        "colab": {
          "base_uri": "https://localhost:8080/"
        }
      },
      "execution_count": null,
      "outputs": [
        {
          "output_type": "stream",
          "name": "stdout",
          "text": [
            "the minimum ride duration is: 1 minute\n",
            "the maximum ride duration is: 1372 minutes\n"
          ]
        }
      ]
    },
    {
      "cell_type": "code",
      "source": [
        "# Creating a new DataFrame with rides that are 60 minutes or less\n",
        "short_rides_df = ride_sharing_df.query('duration <= 60')\n",
        "\n",
        "# Displaying the first few rows of this new DataFrame\n",
        "print(\"New DataFrame with rides that are 60 minutes or less:\")\n",
        "print(short_rides_df.head())\n"
      ],
      "metadata": {
        "id": "K7mStv5kibbA",
        "outputId": "a68805ad-1dc2-4ed8-f8ec-ba5c75500853",
        "colab": {
          "base_uri": "https://localhost:8080/"
        }
      },
      "execution_count": null,
      "outputs": [
        {
          "output_type": "stream",
          "name": "stdout",
          "text": [
            "New DataFrame with rides that are 60 minutes or less:\n",
            "   duration  station_A_id                                     station_A_name  \\\n",
            "0        12            81                                 Berry St at 4th St   \n",
            "1        24             3       Powell St BART Station (Market St at 4th St)   \n",
            "2         8            67  San Francisco Caltrain Station 2  (Townsend St...   \n",
            "3         4            16                            Steuart St at Market St   \n",
            "4        11            22                              Howard St at Beale St   \n",
            "\n",
            "   station_B_id                   station_B_name  bike_id  user_type  \\\n",
            "0           323               Broadway at Kearny     5480          2   \n",
            "1           118  Eureka Valley Recreation Center     5193          2   \n",
            "2            23    The Embarcadero at Steuart St     3652          3   \n",
            "3            28     The Embarcadero at Bryant St     1883          1   \n",
            "4           350             8th St at Brannan St     4626          2   \n",
            "\n",
            "   user_birth_year user_gender  tire_size  \n",
            "0             1959        Male         26  \n",
            "1             1965        Male         27  \n",
            "2             1993        Male         29  \n",
            "3             1979        Male         26  \n",
            "4             1994        Male         27  \n"
          ]
        }
      ]
    },
    {
      "cell_type": "code",
      "source": [
        "# Now show both the min and max values of the duration column for your new dataset.\n",
        "min_duration= short_rides_df['duration'].min()\n",
        "max_duration= short_rides_df['duration'].max()\n",
        "print(\"the minimum ride duration is:\", min_duration, \"minute\")\n",
        "print(\"the maximum ride duration is:\", max_duration, \"minutes\")\n",
        "\n"
      ],
      "metadata": {
        "id": "v63UdQjNi-w5",
        "outputId": "1384df95-af18-41a7-d99c-8aac4414973c",
        "colab": {
          "base_uri": "https://localhost:8080/"
        }
      },
      "execution_count": null,
      "outputs": [
        {
          "output_type": "stream",
          "name": "stdout",
          "text": [
            "the minimum ride duration is: 1 minute\n",
            "the maximum ride duration is: 60 minutes\n"
          ]
        }
      ]
    },
    {
      "cell_type": "code",
      "source": [
        "# Using the new dataframe, update it so that is ONLY has records where tire size is 26\n",
        "tire_size_df = short_rides_df.query('tire_size == 26')\n",
        "\n",
        "# Display the first few rows of the updated DataFrame\n",
        "print(\"Updated DataFrame with records where tire size is 26:\")\n",
        "print(tire_size_df.head())"
      ],
      "metadata": {
        "id": "xTzb_j9rjGk2",
        "outputId": "53463614-2069-4dde-c1cd-a3dc92ec90f6",
        "colab": {
          "base_uri": "https://localhost:8080/"
        }
      },
      "execution_count": null,
      "outputs": [
        {
          "output_type": "stream",
          "name": "stdout",
          "text": [
            "Updated DataFrame with records where tire size is 26:\n",
            "    duration  station_A_id                                     station_A_name  \\\n",
            "0         12            81                                 Berry St at 4th St   \n",
            "3          4            16                            Steuart St at Market St   \n",
            "6         16            67  San Francisco Caltrain Station 2  (Townsend St...   \n",
            "9          5            30     San Francisco Caltrain (Townsend St at 4th St)   \n",
            "12         7             3       Powell St BART Station (Market St at 4th St)   \n",
            "\n",
            "    station_B_id                station_B_name  bike_id  user_type  \\\n",
            "0            323            Broadway at Kearny     5480          2   \n",
            "3             28  The Embarcadero at Bryant St     1883          1   \n",
            "6            107         17th St at Dolores St     1035          2   \n",
            "9             62   Victoria Manalo Draves Park      333          1   \n",
            "12            27       Beale St at Harrison St     1863          3   \n",
            "\n",
            "    user_birth_year user_gender  tire_size  \n",
            "0              1959        Male         26  \n",
            "3              1979        Male         26  \n",
            "6              1981        Male         26  \n",
            "9              1994        Male         26  \n",
            "12             1998        Male         26  \n"
          ]
        }
      ]
    },
    {
      "cell_type": "code",
      "source": [
        "# Finally, produce a count of all records with FEMALE riders\n",
        "#using the 26-inch wheeled rental bikes for their rentals of one hour or less.\n",
        "\n",
        "# Count of all records with FEMALE riders tire size of 26 inches for one-hour or less rentals\n",
        "female_short_rides_tire_size_count = tire_size_df.query('user_gender == \"FEMALE\"').shape[0]\n",
        "\n",
        "# Display the count\n",
        "print(\"Count of records with FEMALE riders using 26-inch bikes for one-hour or less rentals:\", female_short_rides_tire_size_count)"
      ],
      "metadata": {
        "id": "0cwbfj66jrG9",
        "outputId": "6a8a3e59-e66f-4ed4-88c1-f0b4cc183003",
        "colab": {
          "base_uri": "https://localhost:8080/"
        }
      },
      "execution_count": null,
      "outputs": [
        {
          "output_type": "stream",
          "name": "stdout",
          "text": [
            "Count of records with FEMALE riders using 26-inch bikes for one-hour or less rentals: 0\n"
          ]
        }
      ]
    },
    {
      "cell_type": "code",
      "source": [],
      "metadata": {
        "id": "9cvCEYJiYHOG"
      },
      "execution_count": null,
      "outputs": []
    },
    {
      "cell_type": "markdown",
      "source": [
        "2. Find the file `more-messy-data.csv` on Canvas and upload it into Google Colab.\n",
        "\n",
        "Create a new Pandas DataFrame from that data and perform the following steps."
      ],
      "metadata": {
        "id": "YIlxzTRQSrl3"
      }
    },
    {
      "cell_type": "code",
      "source": [
        "# Write a snippet of code that will display the number of duplicate rows exist in the DF.\n",
        "messy=pd.read_csv('/content/more-messy-data.csv')\n",
        "num_of_duplicates=messy.duplicated().sum()\n",
        "print(\"Number of duplicate rows:\", num_of_duplicates)\n",
        "\n"
      ],
      "metadata": {
        "id": "6O1caoy6S82Q",
        "outputId": "6908e9cf-cb54-4a35-e2a0-25525605cc1e",
        "colab": {
          "base_uri": "https://localhost:8080/"
        }
      },
      "execution_count": null,
      "outputs": [
        {
          "output_type": "stream",
          "name": "stdout",
          "text": [
            "Number of duplicate rows: 287\n"
          ]
        }
      ]
    },
    {
      "cell_type": "code",
      "source": [
        "# Next, remove all duplicate rows using Python.\n",
        "messy_new = messy.drop_duplicates()\n"
      ],
      "metadata": {
        "id": "-pDZ2xA-S8vd"
      },
      "execution_count": null,
      "outputs": []
    },
    {
      "cell_type": "code",
      "source": [
        "# For the FOUR columns involving sepal and petal length and width, update all NaN\n",
        "# values with the column mean.\n",
        "# working on the  data frame 'messy_new'\n",
        "\n",
        "# Convert columns to numeric values\n",
        "messy_new['sepal_length'] = pd.to_numeric(messy_new['sepal_length'], errors='coerce')\n",
        "messy_new['sepal_width'] = pd.to_numeric(messy_new['sepal_width'], errors='coerce')\n",
        "messy_new['petal_length'] = pd.to_numeric(messy_new['petal_length'], errors='coerce')\n",
        "messy_new['petal_width'] = pd.to_numeric(messy_new['petal_width'], errors='coerce')\n",
        "\n",
        "# Replace NaN values with column mean\n",
        "messy_new['sepal_length'].fillna(messy_new['sepal_length'].mean(), inplace=True)\n",
        "messy_new['sepal_width'].fillna(messy_new['sepal_width'].mean(), inplace=True)\n",
        "messy_new['petal_length'].fillna(messy_new['petal_length'].mean(), inplace=True)\n",
        "messy_new['petal_width'].fillna(messy_new['petal_width'].mean(), inplace=True)\n",
        "\n",
        "# Check NaN values after filling with means\n",
        "nan_values = messy_new[['sepal_length', 'sepal_width', 'petal_length', 'petal_width']].isna().sum()\n",
        "print(nan_values)\n",
        "\n",
        "print(messy_new.head())\n"
      ],
      "metadata": {
        "id": "Quf-P7L4S8oh",
        "outputId": "32b687a6-4da5-43ad-ab54-e70eefdbf5af",
        "colab": {
          "base_uri": "https://localhost:8080/"
        }
      },
      "execution_count": null,
      "outputs": [
        {
          "output_type": "stream",
          "name": "stdout",
          "text": [
            "sepal_length    0\n",
            "sepal_width     0\n",
            "petal_length    0\n",
            "petal_width     0\n",
            "dtype: int64\n",
            "   id  sepal_length  sepal_width  petal_length  petal_width    species\n",
            "0   1           3.5      2.90000           1.4          0.5  virginica\n",
            "1   2           3.6      3.20000           3.0          0.5     setosa\n",
            "2   3           3.8      2.98876           2.2          1.5     setosa\n",
            "3   4           5.8      2.70000           2.6          1.2  virginica\n",
            "4   5           4.9      3.60000           3.0          1.2  virginica\n"
          ]
        },
        {
          "output_type": "stream",
          "name": "stderr",
          "text": [
            "<ipython-input-48-5e67b6fff4ae>:6: SettingWithCopyWarning: \n",
            "A value is trying to be set on a copy of a slice from a DataFrame.\n",
            "Try using .loc[row_indexer,col_indexer] = value instead\n",
            "\n",
            "See the caveats in the documentation: https://pandas.pydata.org/pandas-docs/stable/user_guide/indexing.html#returning-a-view-versus-a-copy\n",
            "  messy_new['sepal_length'] = pd.to_numeric(messy_new['sepal_length'], errors='coerce')\n",
            "<ipython-input-48-5e67b6fff4ae>:7: SettingWithCopyWarning: \n",
            "A value is trying to be set on a copy of a slice from a DataFrame.\n",
            "Try using .loc[row_indexer,col_indexer] = value instead\n",
            "\n",
            "See the caveats in the documentation: https://pandas.pydata.org/pandas-docs/stable/user_guide/indexing.html#returning-a-view-versus-a-copy\n",
            "  messy_new['sepal_width'] = pd.to_numeric(messy_new['sepal_width'], errors='coerce')\n",
            "<ipython-input-48-5e67b6fff4ae>:8: SettingWithCopyWarning: \n",
            "A value is trying to be set on a copy of a slice from a DataFrame.\n",
            "Try using .loc[row_indexer,col_indexer] = value instead\n",
            "\n",
            "See the caveats in the documentation: https://pandas.pydata.org/pandas-docs/stable/user_guide/indexing.html#returning-a-view-versus-a-copy\n",
            "  messy_new['petal_length'] = pd.to_numeric(messy_new['petal_length'], errors='coerce')\n",
            "<ipython-input-48-5e67b6fff4ae>:9: SettingWithCopyWarning: \n",
            "A value is trying to be set on a copy of a slice from a DataFrame.\n",
            "Try using .loc[row_indexer,col_indexer] = value instead\n",
            "\n",
            "See the caveats in the documentation: https://pandas.pydata.org/pandas-docs/stable/user_guide/indexing.html#returning-a-view-versus-a-copy\n",
            "  messy_new['petal_width'] = pd.to_numeric(messy_new['petal_width'], errors='coerce')\n",
            "<ipython-input-48-5e67b6fff4ae>:12: SettingWithCopyWarning: \n",
            "A value is trying to be set on a copy of a slice from a DataFrame\n",
            "\n",
            "See the caveats in the documentation: https://pandas.pydata.org/pandas-docs/stable/user_guide/indexing.html#returning-a-view-versus-a-copy\n",
            "  messy_new['sepal_length'].fillna(messy_new['sepal_length'].mean(), inplace=True)\n",
            "<ipython-input-48-5e67b6fff4ae>:13: SettingWithCopyWarning: \n",
            "A value is trying to be set on a copy of a slice from a DataFrame\n",
            "\n",
            "See the caveats in the documentation: https://pandas.pydata.org/pandas-docs/stable/user_guide/indexing.html#returning-a-view-versus-a-copy\n",
            "  messy_new['sepal_width'].fillna(messy_new['sepal_width'].mean(), inplace=True)\n",
            "<ipython-input-48-5e67b6fff4ae>:14: SettingWithCopyWarning: \n",
            "A value is trying to be set on a copy of a slice from a DataFrame\n",
            "\n",
            "See the caveats in the documentation: https://pandas.pydata.org/pandas-docs/stable/user_guide/indexing.html#returning-a-view-versus-a-copy\n",
            "  messy_new['petal_length'].fillna(messy_new['petal_length'].mean(), inplace=True)\n",
            "<ipython-input-48-5e67b6fff4ae>:15: SettingWithCopyWarning: \n",
            "A value is trying to be set on a copy of a slice from a DataFrame\n",
            "\n",
            "See the caveats in the documentation: https://pandas.pydata.org/pandas-docs/stable/user_guide/indexing.html#returning-a-view-versus-a-copy\n",
            "  messy_new['petal_width'].fillna(messy_new['petal_width'].mean(), inplace=True)\n"
          ]
        }
      ]
    },
    {
      "cell_type": "code",
      "source": [
        "# Find any values in the dataframe that are still missing, and delete them.\n",
        "# Find missing values in the DataFrame\n",
        "\n",
        "missing_values = messy_new.isnull().sum()\n",
        "\n",
        "# Delete rows with missing values\n",
        "messy_new = messy_new.dropna()\n",
        "\n",
        "# Display the DataFrame after deleting rows with missing values\n",
        "print(messy_new.head())\n",
        "\n"
      ],
      "metadata": {
        "id": "en_ReYsAS8f-",
        "outputId": "b5513cee-0966-4ace-d877-5cffd30b36e1",
        "colab": {
          "base_uri": "https://localhost:8080/"
        }
      },
      "execution_count": null,
      "outputs": [
        {
          "output_type": "stream",
          "name": "stdout",
          "text": [
            "   id  sepal_length  sepal_width  petal_length  petal_width    species\n",
            "0   1           3.5      2.90000           1.4          0.5  virginica\n",
            "1   2           3.6      3.20000           3.0          0.5     setosa\n",
            "2   3           3.8      2.98876           2.2          1.5     setosa\n",
            "3   4           5.8      2.70000           2.6          1.2  virginica\n",
            "4   5           4.9      3.60000           3.0          1.2  virginica\n"
          ]
        }
      ]
    },
    {
      "cell_type": "code",
      "source": [
        "# How many different species are there?\n",
        "# Count the number of unique species\n",
        "#.nunique calculates  number of unique values in the \"species\" column.\n",
        "num_species = messy_new['species'].nunique()\n",
        "print(f\"There are {num_species} different species in the dataset.\")"
      ],
      "metadata": {
        "id": "uqV9IHwDS75a",
        "outputId": "2404db22-e881-48f1-f276-ea6bbfbf1c6d",
        "colab": {
          "base_uri": "https://localhost:8080/"
        }
      },
      "execution_count": null,
      "outputs": [
        {
          "output_type": "stream",
          "name": "stdout",
          "text": [
            "There are 10 different species in the dataset.\n"
          ]
        }
      ]
    },
    {
      "cell_type": "code",
      "source": [
        "# Clean up the 'species' variable so that there are exactly three different values.\n",
        "# Define the values to keep\n",
        "values_keeping = ['setosa', 'versicolor', 'virginica']\n",
        "\n",
        "# Filter the 'species' column to keep only the specified values\n",
        "messy_new['species'] = messy_new['species'].apply(lambda x: x if x in values_keeping else None)\n",
        "\n",
        "# Drop rows with NaN values in the 'species' column\n",
        "messy_new.dropna(subset=['species'], inplace=True)\n",
        "\n",
        "# Print the cleaned DataFrame\n",
        "print(messy_new)"
      ],
      "metadata": {
        "id": "G2j8HDgYT52P",
        "outputId": "3840f161-eb60-4957-9473-ae5bd515677d",
        "colab": {
          "base_uri": "https://localhost:8080/"
        }
      },
      "execution_count": null,
      "outputs": [
        {
          "output_type": "stream",
          "name": "stdout",
          "text": [
            "       id  sepal_length  sepal_width  petal_length  petal_width     species\n",
            "0       1           3.5      2.90000      1.400000          0.5   virginica\n",
            "1       2           3.6      3.20000      3.000000          0.5      setosa\n",
            "2       3           3.8      2.98876      2.200000          1.5      setosa\n",
            "3       4           5.8      2.70000      2.600000          1.2   virginica\n",
            "4       5           4.9      3.60000      3.000000          1.2   virginica\n",
            "...   ...           ...          ...           ...          ...         ...\n",
            "1126  227           3.3      2.00000      2.500000          2.4      setosa\n",
            "1127  228           5.8      3.60000      2.100000          2.6      setosa\n",
            "1140  241           3.5      3.20000      3.000000          0.2   virginica\n",
            "1152  253           5.0      3.20000      1.900000          2.7      setosa\n",
            "1307  408           3.2      3.40000      1.998604          0.7  versicolor\n",
            "\n",
            "[926 rows x 6 columns]\n"
          ]
        }
      ]
    },
    {
      "cell_type": "markdown",
      "source": [
        "3. Bonus:  Regular expressions\n",
        "\n",
        "Ordinary (non-vanity) Virginia license plates have the form `ABC1234`, meaning they have three upper case letters followed by four digits.  Write a regular expression that matches any string of this form (and doesn't match anything else).  Test your expression with code to make sure it works.\n",
        "\n",
        "To figure out out how to do this, start with the sample code below.  The `re` package has various functions related to regular expressions, including for example `match()`, which takes two arguments, first the regular expression and second the test string, and tests to see whether the *beginning* of the `test` string matches the pattern `exp`.\n",
        "\n",
        "Note that `re.match(exp,test)` does not return a boolean variable, as you might expect (in other words, a match doesn't return `True` and a non-match `False`).  The type of object you get is called `re.Match`, which is a data type special to the `re` package.  (The reason for this is that the object contains more information than just whether there is a match or not.) However, you can turn it into a boolean using `bool()` if you want.\n",
        "\n",
        "Include the following in the notebook you submit:\n",
        "\n",
        " 1. A regular expression in a text chunk\n",
        " 2. One or more code chunks in which you test several strings to verify that your regex is correct.\n",
        " 3. Make sure you display the results of testing various strings.\n",
        "\n",
        " See this [documentation page](https://docs.python.org/3/howto/regex.html#regex-howto) for further help."
      ],
      "metadata": {
        "id": "CsMBqFDmX7Ax"
      }
    },
    {
      "cell_type": "code",
      "source": [
        "# Sample code for testing whether a string matches a regex\n",
        "\n",
        "# First import this package for working with regular expressions\n",
        "import re\n",
        "\n",
        "# Here is an example.\n",
        "# Play around with different expressions and test strings to see what happens.\n",
        "#exp = 'ab+'\n",
        "#test = 'aabbbc'\n",
        "\n",
        "#if re.match(exp,test):\n",
        "  #print(\"match!\")\n",
        "#else:\n",
        "  #print(\"no match\")\n",
        "\n",
        "# uncomment this line if you want\n",
        "# print(type(re.match(exp,test)))\n",
        "\n",
        "# uncomment this line if you want\n",
        "# print(bool(re.match(exp,test)))\n",
        "\n",
        "\n",
        "# Defining a conventional expression\n",
        "pattern = r'^[A-Z]{3}\\d{4}$'\n",
        "\n",
        "# Test strings\n",
        "test_strings = [\n",
        "    \"ABC1234\",  # Should match\n",
        "    \"DEF5678\",  # Should match\n",
        "    \"XYZ9999\",  # Should match\n",
        "    \"AB12345\",  # Should not match (as there is a wrong number of digits)\n",
        "    \"ABC123\",   # Should not match (too few digits)\n",
        "    \"ABCD1234\", # Should not match (too many letters)\n",
        "    \"1234ABCD\", # Should not match (letters come after digits)\n",
        "]\n",
        "\n",
        "# Test the regular expression with each test string\n",
        "for test_string in test_strings:\n",
        "    if re.match(pattern, test_string):\n",
        "        print(f\"String: {test_string}, Match: Yes\")\n",
        "    else:\n",
        "        print(f\"String: {test_string}, Match: No\")\n"
      ],
      "metadata": {
        "id": "LKbpBAxJZnXp",
        "outputId": "5089f036-c20f-4b01-9c14-fbdc72ac81fb",
        "colab": {
          "base_uri": "https://localhost:8080/"
        }
      },
      "execution_count": null,
      "outputs": [
        {
          "output_type": "stream",
          "name": "stdout",
          "text": [
            "String: ABC1234, Match: Yes\n",
            "String: DEF5678, Match: Yes\n",
            "String: XYZ9999, Match: Yes\n",
            "String: AB12345, Match: No\n",
            "String: ABC123, Match: No\n",
            "String: ABCD1234, Match: No\n",
            "String: 1234ABCD, Match: No\n"
          ]
        }
      ]
    }
  ]
}