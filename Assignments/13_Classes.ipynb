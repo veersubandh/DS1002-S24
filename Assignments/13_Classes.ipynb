{
  "nbformat": 4,
  "nbformat_minor": 0,
  "metadata": {
    "colab": {
      "provenance": [],
      "include_colab_link": true
    },
    "kernelspec": {
      "name": "python3",
      "display_name": "Python 3"
    },
    "language_info": {
      "name": "python"
    }
  },
  "cells": [
    {
      "cell_type": "markdown",
      "metadata": {
        "id": "view-in-github",
        "colab_type": "text"
      },
      "source": [
        "<a href=\"https://colab.research.google.com/github/veersubandh/DS1002-S24/blob/main/Assignments/13_Classes.ipynb\" target=\"_parent\"><img src=\"https://colab.research.google.com/assets/colab-badge.svg\" alt=\"Open In Colab\"/></a>"
      ]
    },
    {
      "cell_type": "markdown",
      "source": [
        "## Assignment:  Classes\n",
        "### Due Sunday 28 April at 10pm"
      ],
      "metadata": {
        "id": "5Vy93BSp9Tum"
      }
    },
    {
      "cell_type": "markdown",
      "source": [
        "1.  Define a class called `Person` that has attributes `lastName`, `firstName`, `mother`, and `father`.  Both `mother` and `father` should have default value `unknown`.\n",
        "\n",
        "  Include a `__str__()` function that returns a string of the form '`firstName` `lastName`'.\n",
        "\n",
        "  Include a `__repr__()` function that returns a string that can be evaluated to recreate the `Person` object.\n",
        "\n"
      ],
      "metadata": {
        "id": "vcj5XQAI9Wsb"
      }
    },
    {
      "cell_type": "markdown",
      "source": [
        "By Anaya Nath and Veer Subandh"
      ],
      "metadata": {
        "id": "EoF6kYkdQd3R"
      }
    },
    {
      "cell_type": "code",
      "source": [
        "class Person:\n",
        "    def __init__(self, lastName, firstName, mother='unknown', father='unknown'): #init initialises the attributes (mother, father, first_name, last_name) when the class (person) is created\n",
        "        self.lastName = lastName\n",
        "        self.firstName = firstName\n",
        "        self.mother = mother\n",
        "        self.father = father\n",
        "\n",
        "    def __str__(self):\n",
        "        return f'{self.firstName} {self.lastName}'\n",
        "\n",
        "    def __repr__(self):\n",
        "        return f\"Person('{self.lastName}', '{self.firstName}', '{self.mother}', '{self.father}')\"\n",
        "\n",
        "# for example\n",
        "person1 = Person('last name', 'first name')\n",
        "print(person1)\n",
        "print(repr(person1))"
      ],
      "metadata": {
        "id": "mjHDwHv3EpVe",
        "outputId": "820e5ac0-ec3c-42d5-f1b0-52d465cc7f20",
        "colab": {
          "base_uri": "https://localhost:8080/"
        }
      },
      "execution_count": null,
      "outputs": [
        {
          "output_type": "stream",
          "name": "stdout",
          "text": [
            "first name last name\n",
            "Person('last name', 'first name', 'unknown', 'unknown')\n"
          ]
        }
      ]
    },
    {
      "cell_type": "markdown",
      "source": [
        "Create a person (i.e., a `Person` object) called `p` with unknown parents.  (You will need to give your person a first and last name.) Check the type of `p`.  Include all inputs and outputs."
      ],
      "metadata": {
        "id": "-ppMsEIVHINl"
      }
    },
    {
      "cell_type": "code",
      "source": [
        "# Creating a Person object called p with unknown parents\n",
        "p = Person('Heraldo', 'Elena')\n",
        "\n",
        "# Checking the type of p\n",
        "print(type(p))"
      ],
      "metadata": {
        "id": "5bwid_6gHIBH",
        "outputId": "b54bb1ba-c3f8-4408-ba9a-147a8bf7c0e9",
        "colab": {
          "base_uri": "https://localhost:8080/"
        }
      },
      "execution_count": null,
      "outputs": [
        {
          "output_type": "stream",
          "name": "stdout",
          "text": [
            "<class '__main__.Person'>\n"
          ]
        }
      ]
    },
    {
      "cell_type": "markdown",
      "source": [
        "Verify that your `__str__` and `__repr__` functions are doing what they are supposed to do.  Include all inputs and outputs."
      ],
      "metadata": {
        "id": "Z6zlUC3xRtal"
      }
    },
    {
      "cell_type": "code",
      "source": [
        "class Person:\n",
        "    def __init__(self, lastName, firstName, mother='unknown', father='unknown'):\n",
        "        self.lastName = lastName\n",
        "        self.firstName = firstName\n",
        "        self.mother = mother\n",
        "        self.father = father\n",
        "\n",
        "    def __str__(self):\n",
        "        return f'{self.firstName} {self.lastName}'\n",
        "\n",
        "    def __repr__(self):\n",
        "        return f\"Person('{self.lastName}', '{self.firstName}', '{self.mother}', '{self.father}')\"\n",
        "\n",
        "# Creating a Person object called p with unknown parents\n",
        "p = Person('Heraldo', 'Elena')\n",
        "\n",
        "# Printing the string representation using __str__ to verify if the function prints first name followed by last name\n",
        "print(str(p))\n",
        "\n",
        "# Printing the string representation using __repr__ to verify if the function recreates the 'Person' object with all its attributes\n",
        "print(repr(p))"
      ],
      "metadata": {
        "id": "jZO0dBQYRs-K",
        "outputId": "645d236c-8921-489f-b03a-d2c9e5f4e4a9",
        "colab": {
          "base_uri": "https://localhost:8080/"
        }
      },
      "execution_count": null,
      "outputs": [
        {
          "output_type": "stream",
          "name": "stdout",
          "text": [
            "Elena Heraldo\n",
            "Person('Heraldo', 'Elena', 'unknown', 'unknown')\n"
          ]
        }
      ]
    },
    {
      "cell_type": "markdown",
      "source": [
        "Suppose the mother of `p` has been found and is named Taylor Swift.  Create a new person named Taylor Swift, and make her the mother of `p`:\n",
        "\n",
        "```\n",
        "> p.mother\n",
        "'Taylor Swift'\n",
        "```"
      ],
      "metadata": {
        "id": "1mOAThQiHzoQ"
      }
    },
    {
      "cell_type": "code",
      "source": [
        "#To make the mother of p 'Taylor Swift', we first created a new 'Person' object self-representing as Taylor swiftt and then assigned her as p's mother\n",
        "# Creating a new Person object named Taylor Swift\n",
        "taylor_swift = Person('Swift', 'Taylor')\n",
        "\n",
        "# Assigning Taylor Swift as the mother of p\n",
        "p.mother = taylor_swift\n",
        "\n",
        "# Checking the mother of p\n",
        "print(p.mother)"
      ],
      "metadata": {
        "id": "NYbDOorpHymz",
        "outputId": "204d2637-1171-4043-edc5-eae63fbbfa72",
        "colab": {
          "base_uri": "https://localhost:8080/"
        }
      },
      "execution_count": null,
      "outputs": [
        {
          "output_type": "stream",
          "name": "stdout",
          "text": [
            "Taylor Swift\n"
          ]
        }
      ]
    },
    {
      "cell_type": "markdown",
      "source": [
        "2.  Add some methods to your class.  Start by copying the `class` definition you already wrote.  Then, inside the `class` definition:\n",
        "\n",
        "  (a) Write a method called `unknownParent()` which returns `True` if any parent is 'unknown' and `False` otherwise.\n",
        "\n",
        "  (b) Write a method called `maternalGrandmother()` which returns the mother's mother.  If the mother is unknown, it should return 'unknown'.\n",
        "\n"
      ],
      "metadata": {
        "id": "1g1pcrmFHzGh"
      }
    },
    {
      "cell_type": "code",
      "source": [
        "#2a)\n",
        "class Person:\n",
        "    def __init__(self, lastName, firstName, mother='unknown', father='unknown'):\n",
        "        self.lastName = lastName\n",
        "        self.firstName = firstName\n",
        "        self.mother = mother\n",
        "        self.father = father\n",
        "\n",
        "    def __str__(self):\n",
        "        return f'{self.firstName} {self.lastName}'\n",
        "\n",
        "    def __repr__(self):\n",
        "        return f\"Person('{self.lastName}', '{self.firstName}', '{self.mother}', '{self.father}')\"\n",
        "\n",
        "    def unknownParent(self):\n",
        "        return 'unknown' in [self.mother, self.father]\n",
        "\n",
        "# Creating a Person object called p with unknown parents\n",
        "p= Person('Heraldo', 'Elena')\n",
        "\n",
        "# Checking if any parent is unknown\n",
        "print(p.unknownParent())"
      ],
      "metadata": {
        "id": "7mIxJGwwKTpv",
        "outputId": "87054f73-0cd2-432e-f7ed-e7c88871812b",
        "colab": {
          "base_uri": "https://localhost:8080/"
        }
      },
      "execution_count": null,
      "outputs": [
        {
          "output_type": "stream",
          "name": "stdout",
          "text": [
            "True\n"
          ]
        }
      ]
    },
    {
      "cell_type": "code",
      "source": [
        "#2b\n",
        "class Person:\n",
        "    def __init__(self, lastName, firstName, mother='unknown', father='unknown'):\n",
        "        self.lastName = lastName\n",
        "        self.firstName = firstName\n",
        "        self.mother = mother\n",
        "        self.father = father\n",
        "\n",
        "    def __str__(self):\n",
        "        return f'{self.firstName} {self.lastName}'\n",
        "\n",
        "    def __repr__(self):\n",
        "        return f\"Person('{self.lastName}', '{self.firstName}', '{self.mother}', '{self.father}')\"\n",
        "\n",
        "    def unknownParent(self):\n",
        "        return 'unknown' in [self.mother, self.father]\n",
        "\n",
        "    def maternalGrandmother(self):\n",
        "        if self.mother == 'unknown':\n",
        "            return 'unknown'\n",
        "        elif isinstance(self.mother, Person):\n",
        "            return self.mother.mother\n",
        "\n",
        "\n",
        "# Creating a Person object called p with unknown parents\n",
        "p = Person('Heraldo', 'Elena')\n",
        "\n",
        "# Checking the maternal grandmother of p\n",
        "print(p.maternalGrandmother())\n",
        "\n"
      ],
      "metadata": {
        "id": "paynNPO8YtQE",
        "outputId": "c7b11bd7-18de-4fbe-af60-7cc89b3c524d",
        "colab": {
          "base_uri": "https://localhost:8080/"
        }
      },
      "execution_count": null,
      "outputs": [
        {
          "output_type": "stream",
          "name": "stdout",
          "text": [
            "unknown\n"
          ]
        }
      ]
    },
    {
      "cell_type": "code",
      "source": [
        "#This was the case when object p such as Elena Heraldo was part of Person which did not have 'maternal grandmother' as an attribute\n",
        "#But, if the object did have maternal grandmother as an attribute, the test would look like this\n",
        "#Lets take a new object Olivia who has both parents who are known and a maternal grand mother named Eve\n",
        "\n",
        "#The Person class has attributes which are 'first name', 'last name', 'mother', and 'father'\n",
        "#We will make a new Person class called Person New which has 'first name', 'last name', 'mother', 'father', and 'maternal grand mother'\n",
        "#Olivia will be part of the new Person class to check if the maternalGrandmother() function returns the grandmother's name\n",
        "#To define PersonNew, we will simply add an attribute 'maternal grand mother' to the existing Person class\n",
        "class PersonNew(Person):\n",
        "    def __init__(self, lastName, firstName, mother='unknown', father='unknown', maternalGrandmother='unknown'):\n",
        "        super().__init__(lastName, firstName, mother, father)\n",
        "        self.maternalGrandmother = maternalGrandmother\n",
        "\n",
        "    def __repr__(self):\n",
        "        return f\"PersonNew('{self.lastName}', '{self.firstName}', '{self.mother}', '{self.father}', '{self.maternalGrandmother}')\"\n",
        "\n",
        "# Creating a PersonNew object called olivia with known parents and maternal grandmother\n",
        "olivia = PersonNew('Johnson', 'Olivia', mother='Suzie', father='Carl', maternalGrandmother='Eve')\n",
        "\n",
        "# Checking the maternal grandmother of olivia\n",
        "print(olivia.maternalGrandmother)"
      ],
      "metadata": {
        "id": "2Wt7u6FRhqzT",
        "outputId": "1840a985-4dfb-4ce9-df62-f98b0dacb11d",
        "colab": {
          "base_uri": "https://localhost:8080/"
        }
      },
      "execution_count": null,
      "outputs": [
        {
          "output_type": "stream",
          "name": "stdout",
          "text": [
            "Eve\n"
          ]
        }
      ]
    },
    {
      "cell_type": "markdown",
      "source": [
        "Create enough `Person` objects to test whether your methods are working properly.  Show all your inputs and outputs.  It is up to you to demonstrate that you have thoroughly tested the code.  You may use additional code and/or text chunks if it helps."
      ],
      "metadata": {
        "id": "l9-4gxd8FxAQ"
      }
    },
    {
      "cell_type": "code",
      "source": [
        "# Creating Person objects which meet different conditions for testing purposes\n",
        "elena = Person('Elena', 'Heraldo')\n",
        "#A person with unknown parents.\n",
        "anaya = Person('Anaya', 'Smith', 'Jane', 'Henry')\n",
        "#A person with known parents (mother='Jane', father= 'Henry' )\n",
        "olivia = PersonNew('Olivia', 'Johnson', 'Suzie', 'Carl','Eve')\n",
        "#A person with known parents, including a grandmother named suzie\n",
        "veer = Person('Veer', 'Singh', mother='Sysha')\n",
        "#A person with only a known father (mother='Sysha ').\n",
        "anaise = Person('Anaise', 'Naish', mother='unknown', father='Ryan')\n",
        "#A person with an unknown mother and a known father (father='Ryan').\n",
        "\n",
        "# Testing unknownParent() method\n",
        "print(elena.unknownParent())\n",
        "print(anaya.unknownParent())\n",
        "print(olivia.unknownParent())\n",
        "print(veer.unknownParent())\n",
        "print(anaise.unknownParent())\n",
        "\n",
        "# Testing maternalGrandmother() method\n",
        "print(elena.maternalGrandmother())\n",
        "print(anaya.maternalGrandmother())\n",
        "print(olivia.maternalGrandmother)\n",
        "print(veer.maternalGrandmother())\n",
        "print(anaise.maternalGrandmother())"
      ],
      "metadata": {
        "id": "3efW-ObuhDZX",
        "outputId": "02655885-49e7-4495-cde0-8a48af028602",
        "colab": {
          "base_uri": "https://localhost:8080/"
        }
      },
      "execution_count": null,
      "outputs": [
        {
          "output_type": "stream",
          "name": "stdout",
          "text": [
            "True\n",
            "False\n",
            "False\n",
            "True\n",
            "True\n",
            "unknown\n",
            "None\n",
            "Eve\n",
            "None\n",
            "unknown\n"
          ]
        }
      ]
    }
  ]
}