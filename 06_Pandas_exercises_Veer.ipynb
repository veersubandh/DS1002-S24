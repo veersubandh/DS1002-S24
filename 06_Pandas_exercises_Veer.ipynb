{
  "cells": [
    {
      "cell_type": "markdown",
      "metadata": {
        "id": "view-in-github",
        "colab_type": "text"
      },
      "source": [
        "<a href=\"https://colab.research.google.com/github/veersubandh/DS1002-S24/blob/main/06_Pandas_exercises_Veer.ipynb\" target=\"_parent\"><img src=\"https://colab.research.google.com/assets/colab-badge.svg\" alt=\"Open In Colab\"/></a>"
      ]
    },
    {
      "cell_type": "markdown",
      "source": [
        "This assignment was decidedly quicker but I think that pandas are generally easier to use as a library than just base python. The longest amount of time came in trying to figure out how to iterate through with a dictionary while also storing corellations (.corr()) in an efficient manner."
      ],
      "metadata": {
        "id": "onf_ZMPVsSQG"
      }
    },
    {
      "cell_type": "markdown",
      "metadata": {
        "id": "L_nKffgWPs-1"
      },
      "source": [
        "## Pandas exercises 1\n",
        "\n",
        "1. Import dependencies"
      ]
    },
    {
      "cell_type": "code",
      "source": [
        "import pandas as pd"
      ],
      "metadata": {
        "id": "VK_T3xKAYv_g"
      },
      "execution_count": null,
      "outputs": []
    },
    {
      "cell_type": "markdown",
      "metadata": {
        "id": "33KUt_fEPs-2"
      },
      "source": [
        "---"
      ]
    },
    {
      "cell_type": "code",
      "execution_count": null,
      "metadata": {
        "id": "ZZmr1aIoPs-3"
      },
      "outputs": [],
      "source": [
        "list = [98, 24, 46, 87, 33]"
      ]
    },
    {
      "cell_type": "markdown",
      "metadata": {
        "id": "jGSEPEqXPs-3"
      },
      "source": [
        "2. Convert `list` to a pandas series using `pd.Series`"
      ]
    },
    {
      "cell_type": "code",
      "execution_count": null,
      "metadata": {
        "id": "nZ1y9HF6Ps-3"
      },
      "outputs": [],
      "source": [
        "pdlist = pd.Series(list)"
      ]
    },
    {
      "cell_type": "markdown",
      "metadata": {
        "id": "rORNi5YyPs-4"
      },
      "source": [
        "3. Take the above series and add an index that starts at 2 and steps by 3"
      ]
    },
    {
      "cell_type": "code",
      "execution_count": null,
      "metadata": {
        "id": "YC8f3lAMPs-4",
        "colab": {
          "base_uri": "https://localhost:8080/"
        },
        "outputId": "106a1433-6859-4063-a252-4b881f1adc05"
      },
      "outputs": [
        {
          "output_type": "stream",
          "name": "stdout",
          "text": [
            "2     98\n",
            "5     24\n",
            "8     46\n",
            "11    87\n",
            "14    33\n",
            "dtype: int64\n"
          ]
        }
      ],
      "source": [
        "index = range(2, len(list) * 3 + 2, 3)\n",
        "\n",
        "# Converting to Pandas Series\n",
        "pdlist = pd.Series(list)\n",
        "pdlist = pdlist.set_axis(index)\n",
        "\n",
        "# Printing the Series\n",
        "print(pdlist)"
      ]
    },
    {
      "cell_type": "markdown",
      "metadata": {
        "id": "2P199KkwPs-4"
      },
      "source": [
        "4. Create a dictionary of 4 names, ages, and careers   \n",
        "Convert this dictionary to a pandas dataframe: `df`.  \n",
        "Print the dataframe."
      ]
    },
    {
      "cell_type": "code",
      "execution_count": null,
      "metadata": {
        "id": "lWoGNi5hPs-5",
        "colab": {
          "base_uri": "https://localhost:8080/"
        },
        "outputId": "f2a8720e-c045-4c5a-b215-bd828836233d"
      },
      "outputs": [
        {
          "output_type": "stream",
          "name": "stdout",
          "text": [
            "      Name  Age          Career\n",
            "0    Alice   26       Biologist\n",
            "1  Bernice   34       Architect\n",
            "2  Charley   32  Police Officer\n",
            "3  Dominic   38            Chef\n"
          ]
        }
      ],
      "source": [
        "dictionary = {\n",
        "    'Name': ['Alice', 'Bernice', 'Charley', 'Dominic'],\n",
        "    'Age': [26, 34, 32, 38],\n",
        "    'Career': ['Biologist', 'Architect', 'Police Officer', 'Chef']\n",
        "}\n",
        "\n",
        "# Convert dictionary to a DataFrame variable type\n",
        "df = pd.DataFrame(dictionary)\n",
        "\n",
        "# Print the DataFrame values\n",
        "print(df)"
      ]
    },
    {
      "cell_type": "markdown",
      "metadata": {
        "id": "TD-Ej1K_Ps-5"
      },
      "source": [
        "5. Name the index of `df` 'participant_id'.  \n",
        "Print `df`."
      ]
    },
    {
      "cell_type": "code",
      "execution_count": null,
      "metadata": {
        "id": "_54NO6pRPs-5",
        "colab": {
          "base_uri": "https://localhost:8080/"
        },
        "outputId": "1e26cef3-1387-4c94-abef-a6dba49c664d"
      },
      "outputs": [
        {
          "output_type": "stream",
          "name": "stdout",
          "text": [
            "                   Name  Age          Career\n",
            "participant_id                              \n",
            "0                 Alice   26       Biologist\n",
            "1               Bernice   34       Architect\n",
            "2               Charley   32  Police Officer\n",
            "3               Dominic   38            Chef\n"
          ]
        }
      ],
      "source": [
        "df.index.name = 'participant_id'\n",
        "print(df)"
      ]
    },
    {
      "cell_type": "markdown",
      "metadata": {
        "id": "-JXKN55IPs-5"
      },
      "source": [
        "6. Use a pandas function to determine the data types of the columns of `df`."
      ]
    },
    {
      "cell_type": "code",
      "execution_count": null,
      "metadata": {
        "id": "pmbPdPYmPs-5",
        "colab": {
          "base_uri": "https://localhost:8080/"
        },
        "outputId": "26e3f1ed-2603-4191-9cca-41f3dd7fe8bd"
      },
      "outputs": [
        {
          "output_type": "stream",
          "name": "stdout",
          "text": [
            "Name      object\n",
            "Age        int64\n",
            "Career    object\n",
            "dtype: object\n"
          ]
        }
      ],
      "source": [
        "print(df.dtypes)"
      ]
    },
    {
      "cell_type": "markdown",
      "metadata": {
        "id": "67Yv1vrcPs-5"
      },
      "source": [
        "7. Using bracket notation, reference column `name`"
      ]
    },
    {
      "cell_type": "code",
      "execution_count": null,
      "metadata": {
        "id": "KvYDyocgPs-6",
        "colab": {
          "base_uri": "https://localhost:8080/"
        },
        "outputId": "cf6ba54c-b0b5-42a8-d921-4a55670e257e"
      },
      "outputs": [
        {
          "output_type": "stream",
          "name": "stdout",
          "text": [
            "participant_id\n",
            "0      Alice\n",
            "1    Bernice\n",
            "2    Charley\n",
            "3    Dominic\n",
            "Name: Name, dtype: object\n"
          ]
        }
      ],
      "source": [
        "print(df['Name'])"
      ]
    },
    {
      "cell_type": "markdown",
      "metadata": {
        "id": "m3cxo1_DPs-6"
      },
      "source": [
        "8. Using dot notation, reference column `name`"
      ]
    },
    {
      "cell_type": "code",
      "execution_count": null,
      "metadata": {
        "id": "1GWDNZpDPs-6",
        "colab": {
          "base_uri": "https://localhost:8080/"
        },
        "outputId": "12531bb7-e09f-456a-da63-15b610314131"
      },
      "outputs": [
        {
          "output_type": "stream",
          "name": "stdout",
          "text": [
            "participant_id\n",
            "0      Alice\n",
            "1    Bernice\n",
            "2    Charley\n",
            "3    Dominic\n",
            "Name: Name, dtype: object\n"
          ]
        }
      ],
      "source": [
        "print(df.Name)"
      ]
    },
    {
      "cell_type": "markdown",
      "metadata": {
        "id": "QXcydAo-Ps-6"
      },
      "source": [
        "8. Reference column `name` and have it returned in a dataframe."
      ]
    },
    {
      "cell_type": "code",
      "execution_count": null,
      "metadata": {
        "id": "Es6jw5eKPs-6",
        "colab": {
          "base_uri": "https://localhost:8080/"
        },
        "outputId": "6c7ed979-b012-43d1-f6b1-19b0abc22392"
      },
      "outputs": [
        {
          "output_type": "stream",
          "name": "stdout",
          "text": [
            "                   Name\n",
            "participant_id         \n",
            "0                 Alice\n",
            "1               Bernice\n",
            "2               Charley\n",
            "3               Dominic\n"
          ]
        }
      ],
      "source": [
        "print(df[['Name']])"
      ]
    },
    {
      "cell_type": "markdown",
      "metadata": {
        "id": "FGvwXkmsPs-6"
      },
      "source": [
        "9. Show the 3rd element in column `career`."
      ]
    },
    {
      "cell_type": "code",
      "execution_count": null,
      "metadata": {
        "id": "9DFRMXJ-Ps-6",
        "colab": {
          "base_uri": "https://localhost:8080/"
        },
        "outputId": "b92fc63e-7859-4bd5-bb89-1c7be904670d"
      },
      "outputs": [
        {
          "output_type": "stream",
          "name": "stdout",
          "text": [
            "Police Officer\n"
          ]
        }
      ],
      "source": [
        "print(df.Career[2])"
      ]
    },
    {
      "cell_type": "markdown",
      "source": [
        "10.  Load the `iris` dataset that we used in class.  Use `iris` as the name of your data frame."
      ],
      "metadata": {
        "id": "rRH599bKtjbE"
      }
    },
    {
      "cell_type": "code",
      "source": [
        "import seaborn as sns\n",
        "iris = sns.load_dataset('iris')\n",
        "print(iris)"
      ],
      "metadata": {
        "id": "zzf2X8hptu02",
        "colab": {
          "base_uri": "https://localhost:8080/"
        },
        "outputId": "c9f4c09f-20f7-4813-86b1-4346ca7c4c86"
      },
      "execution_count": null,
      "outputs": [
        {
          "output_type": "stream",
          "name": "stdout",
          "text": [
            "     sepal_length  sepal_width  petal_length  petal_width    species\n",
            "0             5.1          3.5           1.4          0.2     setosa\n",
            "1             4.9          3.0           1.4          0.2     setosa\n",
            "2             4.7          3.2           1.3          0.2     setosa\n",
            "3             4.6          3.1           1.5          0.2     setosa\n",
            "4             5.0          3.6           1.4          0.2     setosa\n",
            "..            ...          ...           ...          ...        ...\n",
            "145           6.7          3.0           5.2          2.3  virginica\n",
            "146           6.3          2.5           5.0          1.9  virginica\n",
            "147           6.5          3.0           5.2          2.0  virginica\n",
            "148           6.2          3.4           5.4          2.3  virginica\n",
            "149           5.9          3.0           5.1          1.8  virginica\n",
            "\n",
            "[150 rows x 5 columns]\n"
          ]
        }
      ]
    },
    {
      "cell_type": "markdown",
      "source": [
        "11.  What is the correlation between the variables `sepal_length` and `sepal_width` for all the irises?"
      ],
      "metadata": {
        "id": "AKz6-jVWtvSB"
      }
    },
    {
      "cell_type": "code",
      "source": [
        "print(iris.sepal_length.corr(iris.sepal_width))"
      ],
      "metadata": {
        "id": "hee42cCiuUaQ",
        "colab": {
          "base_uri": "https://localhost:8080/"
        },
        "outputId": "64f874fe-47b6-4d78-bd42-be0fa8f15d3a"
      },
      "execution_count": null,
      "outputs": [
        {
          "output_type": "stream",
          "name": "stdout",
          "text": [
            "-0.11756978413300208\n"
          ]
        }
      ]
    },
    {
      "cell_type": "markdown",
      "source": [
        "12.  Which of the three species has the highest correlation between `sepal_length` and `sepal_width`?  Show any calculations you use to support your answer."
      ],
      "metadata": {
        "id": "0FftiYs-uU0S"
      }
    },
    {
      "cell_type": "code",
      "source": [
        "# Get unique species\n",
        "unique_species = iris['species'].unique()\n",
        "\n",
        "# Create a dictionary to store correlation values for each species\n",
        "correlation_dict = {}\n",
        "\n",
        "# Calculate correlation for each species\n",
        "for species in unique_species: # Groups the relevant species together\n",
        "    subset = iris[iris['species'] == species]\n",
        "    correlation = subset['sepal_length'].corr(subset['sepal_width']) # Actual calculation\n",
        "    correlation_dict[species] = correlation\n",
        "\n",
        "print(\"Top three correlated species:\", correlation_dict)"
      ],
      "metadata": {
        "id": "TFGICsBQulQ-",
        "colab": {
          "base_uri": "https://localhost:8080/"
        },
        "outputId": "192c980d-76e2-47f6-936a-4d756ecff511"
      },
      "execution_count": null,
      "outputs": [
        {
          "output_type": "stream",
          "name": "stdout",
          "text": [
            "Top three correlated species: {'setosa': 0.7425466856651597, 'versicolor': 0.5259107172828243, 'virginica': 0.4572278163941129}\n"
          ]
        }
      ]
    },
    {
      "cell_type": "markdown",
      "source": [
        "Setosa has the greatest correlation of around .7425"
      ],
      "metadata": {
        "id": "B71wkWY1qb-p"
      }
    },
    {
      "cell_type": "markdown",
      "source": [
        "13.  Among the four variables, the two that are most negatively correlated (overall) are `sepal_width` and `petal_length`.  (How do we know this?)  Determine the same thing but for each species separately:  for each species, which two variables have the most negative (or the least positive) correlation?  Again, include calculations to support your answer."
      ],
      "metadata": {
        "id": "ZEwy0920u1NY"
      }
    },
    {
      "cell_type": "code",
      "source": [
        "# Initialize a dictionary to store pairs of variables with lowest correlation for each species\n",
        "lowest_corr_pairs = {}\n",
        "\n",
        "# Iterate over each species\n",
        "for species in unique_species:\n",
        "    subset = iris[iris['species'] == species]\n",
        "    # Calculate correlation coefficients for all pairs of variables, excluding 'species' column\n",
        "    correlations = subset.drop('species', axis=1).corr()\n",
        "    # Find the variable pairs with the lowest correlation\n",
        "    min_correlation = correlations.unstack().sort_values().head(1)\n",
        "    lowest_corr_pairs[species] = (min_correlation.index[0], min_correlation.values[0])\n",
        "\n",
        "# Print the species and their corresponding pairs of variables with the lowest correlation\n",
        "for species, (var1, correlation) in lowest_corr_pairs.items():\n",
        "    print(f\"For {species}, the pair of variables with the lowest correlation is {var1} with a correlation of {correlation:.2f}.\")"
      ],
      "metadata": {
        "id": "bcqtPTtHvjLI",
        "colab": {
          "base_uri": "https://localhost:8080/"
        },
        "outputId": "b0c6ab62-2e6a-4818-df3e-db72277bbfc9"
      },
      "execution_count": null,
      "outputs": [
        {
          "output_type": "stream",
          "name": "stdout",
          "text": [
            "For setosa, the pair of variables with the lowest correlation is ('sepal_width', 'petal_length') with a correlation of 0.18.\n",
            "For versicolor, the pair of variables with the lowest correlation is ('sepal_length', 'sepal_width') with a correlation of 0.53.\n",
            "For virginica, the pair of variables with the lowest correlation is ('sepal_length', 'petal_width') with a correlation of 0.28.\n"
          ]
        }
      ]
    },
    {
      "cell_type": "markdown",
      "source": [
        "14.  Once again, the variables `sepal_width` and `petal_length` are negatively correlated.  But for each individual species, these two variables are positively correlated.  How is this possible?  Explain this phenomenon.  Use a data visualization if it helps.\n"
      ],
      "metadata": {
        "id": "cK_OhSaRvxhE"
      }
    },
    {
      "cell_type": "code",
      "source": [
        "import matplotlib.pyplot as plt\n",
        "\n",
        "# Create scatter plots for each species\n",
        "sns.lmplot(x='sepal_width', y='petal_length', data=iris, hue='species', fit_reg=False)\n",
        "plt.title('Sepal Width vs Petal Length for Each Species')\n",
        "plt.xlabel('Sepal Width')\n",
        "plt.ylabel('Petal Length')\n",
        "plt.show()"
      ],
      "metadata": {
        "id": "H4_QQDWHwJ3t",
        "colab": {
          "base_uri": "https://localhost:8080/",
          "height": 529
        },
        "outputId": "68ba0371-a570-41fc-af37-a734bd3efe5c"
      },
      "execution_count": null,
      "outputs": [
        {
          "output_type": "display_data",
          "data": {
            "text/plain": [
              "<Figure size 617.75x500 with 1 Axes>"
            ],
            "image/png": "[encoded data removed]"
          },
          "metadata": {}
        }
      ]
    },
    {
      "cell_type": "markdown",
      "source": [
        "The correlation for setosa is extremely low, but what makes the corellation negative overall is that fact that the values for petal length are so low in setosa while the sepal width is so high. This would draw down the trend line from versicolor and virginica which have high petal length and low sepal width, even if their corellation is stronger than in setosa."
      ],
      "metadata": {
        "id": "Io9-qtXsr72F"
      }
    }
  ],
  "metadata": {
    "kernelspec": {
      "display_name": "Python 3.8.9 64-bit",
      "language": "python",
      "name": "python3"
    },
    "language_info": {
      "codemirror_mode": {
        "name": "ipython",
        "version": 3
      },
      "file_extension": ".py",
      "mimetype": "text/x-python",
      "name": "python",
      "nbconvert_exporter": "python",
      "pygments_lexer": "ipython3",
      "version": "3.8.9"
    },
    "orig_nbformat": 4,
    "vscode": {
      "interpreter": {
        "hash": "31f2aee4e71d21fbe5cf8b01ff0e069b9275f58929596ceb00d14d90e3e16cd6"
      }
    },
    "colab": {
      "provenance": [],
      "include_colab_link": true
    }
  },
  "nbformat": 4,
  "nbformat_minor": 0
}